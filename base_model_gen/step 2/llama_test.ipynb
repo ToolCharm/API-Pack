{
  "cells": [
    {
      "cell_type": "code",
      "execution_count": 10,
      "metadata": {
        "gather": {
          "logged": 1716150599767
        }
      },
      "outputs": [],
      "source": [
        "from azureml.core import Workspace\n",
        "\n",
        "ws = Workspace.from_config()  # assumes you have a config.json file"
      ]
    },
    {
      "cell_type": "code",
      "execution_count": 11,
      "metadata": {
        "gather": {
          "logged": 1716150601161
        },
        "jupyter": {
          "outputs_hidden": false,
          "source_hidden": false
        },
        "nteract": {
          "transient": {
            "deleting": false
          }
        }
      },
      "outputs": [],
      "source": [
        "from azureml.core.compute import ComputeTarget, AmlCompute\n",
        "from azureml.core.compute_target import ComputeTargetException\n",
        "\n",
        "\n",
        "compute_target = ComputeTarget(workspace=ws, name=\"owenb2\")"
      ]
    },
    {
      "cell_type": "code",
      "execution_count": 12,
      "metadata": {
        "gather": {
          "logged": 1716150602422
        },
        "jupyter": {
          "outputs_hidden": false,
          "source_hidden": false
        },
        "nteract": {
          "transient": {
            "deleting": false
          }
        }
      },
      "outputs": [],
      "source": [
        "from azureml.core import Experiment, ScriptRunConfig, Environment\n",
        "experiment_name = 'rest-base-instruction-gen'\n",
        "experiment = Experiment(ws, name=experiment_name)\n",
        "env = Environment.get(workspace=ws, name=\"rest_base_gen_2\", version=\"4\")"
      ]
    },
    {
      "cell_type": "code",
      "execution_count": 18,
      "metadata": {
        "gather": {
          "logged": 1716156518498
        },
        "jupyter": {
          "outputs_hidden": false,
          "source_hidden": false
        },
        "nteract": {
          "transient": {
            "deleting": false
          }
        }
      },
      "outputs": [
        {
          "name": "stderr",
          "output_type": "stream",
          "text": [
            "Submitting /mnt/batch/tasks/shared/LS_root/mounts/clusters/owenb2/code/Users/owenb directory for run. The size of the directory >= 25 MB, so it can take a few minutes.\n"
          ]
        },
        {
          "name": "stdout",
          "output_type": "stream",
          "text": [
            "RunId: rest-base-instruction-gen_1716156520_0056819f\n",
            "Web View: https://ml.azure.com/runs/rest-base-instruction-gen_1716156520_0056819f?wsid=/subscriptions/76ea09d7-5d6b-45bb-b1c9-f504ad119f67/resourcegroups/beta-resources/workspaces/open-source-beta&tid=7fb1cf2d-3c32-4cd1-a802-8de4f70a9319\n"
          ]
        }
      ],
      "source": [
        "from azureml.core.runconfig import DockerConfiguration\n",
        "from azureml.data import OutputFileDatasetConfig\n",
        "\n",
        "output_dir = OutputFileDatasetConfig(destination=(ws.get_default_datastore(), 'output'))\n",
        "docker_config = DockerConfiguration(use_docker=True, shm_size=\"400g\")\n",
        "\n",
        "src = ScriptRunConfig(source_directory='.',\n",
        "                      script='rest_base_instruction_gen.py',\n",
        "                      arguments=['--output_dir', output_dir],\n",
        "                      compute_target=compute_target,\n",
        "                      environment=env,\n",
        "                      docker_runtime_config=docker_config)\n",
        "\n",
        "run = experiment.submit(config=src)\n",
        "run.wait_for_completion(show_output=True)"
      ]
    },
    {
      "cell_type": "code",
      "execution_count": null,
      "metadata": {
        "jupyter": {
          "outputs_hidden": false,
          "source_hidden": false
        },
        "nteract": {
          "transient": {
            "deleting": false
          }
        }
      },
      "outputs": [],
      "source": [
        "run.register_dataset(name='shard_output', dataset=output_dir)"
      ]
    }
  ],
  "metadata": {
    "kernel_info": {
      "name": "python310-sdkv2"
    },
    "kernelspec": {
      "display_name": "Python 3.10 - SDK v2",
      "language": "python",
      "name": "python310-sdkv2"
    },
    "language_info": {
      "codemirror_mode": {
        "name": "ipython",
        "version": 3
      },
      "file_extension": ".py",
      "mimetype": "text/x-python",
      "name": "python",
      "nbconvert_exporter": "python",
      "pygments_lexer": "ipython3",
      "version": "3.10.11"
    },
    "microsoft": {
      "host": {
        "AzureML": {
          "notebookHasBeenCompleted": true
        }
      },
      "ms_spell_check": {
        "ms_spell_check_language": "en"
      }
    },
    "nteract": {
      "version": "nteract-front-end@1.0.0"
    }
  },
  "nbformat": 4,
  "nbformat_minor": 2
}
