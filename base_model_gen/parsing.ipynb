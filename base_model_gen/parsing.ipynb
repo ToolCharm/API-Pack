{
 "cells": [
  {
   "cell_type": "code",
   "execution_count": 28,
   "metadata": {},
   "outputs": [
    {
     "name": "stdout",
     "output_type": "stream",
     "text": [
      "2420\n"
     ]
    }
   ],
   "source": [
    "import re\n",
    "\n",
    "# match and replace the regex string \\\\\\n with a space\n",
    "def replace_newline_with_space(text):\n",
    "    return re.sub(r'\\\\\\n', ' ', text)\n",
    "\n",
    "with open('data/curl_commands.txt', 'r') as f:\n",
    "    curl_commands = f.read()\n",
    "\n",
    "curl_commands = replace_newline_with_space(curl_commands)\n",
    "\n",
    "curl_commands_list = curl_commands.split('\\n')\n",
    "print(len(curl_commands_list))"
   ]
  },
  {
   "cell_type": "code",
   "execution_count": 29,
   "metadata": {},
   "outputs": [
    {
     "name": "stdout",
     "output_type": "stream",
     "text": [
      "762\n"
     ]
    }
   ],
   "source": [
    "curl_commands_list = [cmd for cmd in curl_commands_list if len(cmd) < 10000]\n",
    "curl_commands_list = [cmd for cmd in curl_commands_list if 'curl' in cmd]\n",
    "curl_commands_list = [cmd for cmd in curl_commands_list if not 'http://undefinedundefined' in cmd]\n",
    "curl_commands_list = [cmd for cmd in curl_commands_list if not 'http://localhost' in cmd]\n",
    "curl_commands_list = [cmd for cmd in curl_commands_list if not 'http://undefined' in cmd]\n",
    "print(len(curl_commands_list))"
   ]
  },
  {
   "cell_type": "code",
   "execution_count": 6,
   "metadata": {},
   "outputs": [],
   "source": [
    "with open('data/curl_commands_cleaned.txt', 'w') as f:\n",
    "    f.write('\\n'.join(curl_commands_list))"
   ]
  },
  {
   "cell_type": "code",
   "execution_count": 30,
   "metadata": {},
   "outputs": [
    {
     "name": "stdout",
     "output_type": "stream",
     "text": [
      "762\n"
     ]
    }
   ],
   "source": [
    "# get_commands = [cmd for cmd in curl_commands_list if 'GET' in cmd]\n",
    "# print(len(get_commands))\n",
    "# post_commands = [cmd for cmd in curl_commands_list if 'POST' in cmd]\n",
    "# print(len(post_commands))\n",
    "# put_commands = [cmd for cmd in curl_commands_list if 'PUT' in cmd]\n",
    "# print(len(put_commands))\n",
    "patch_commands = [cmd for cmd in curl_commands_list if 'PATCH' in cmd]\n",
    "print(len(patch_commands))\n",
    "# delete_commands = [cmd for cmd in curl_commands_list if 'DELETE' in cmd]\n",
    "# print(len(delete_commands))\n",
    "# options_commands = [cmd for cmd in curl_commands_list if 'OPTIONS' in cmd]\n",
    "# print(len(options_commands))\n",
    "# head_commands = [cmd for cmd in curl_commands_list if 'HEAD' in cmd]\n",
    "# print(len(head_commands))\n",
    "# trace_commands = [cmd for cmd in curl_commands_list if 'TRACE' in cmd]\n",
    "# print(len(trace_commands))\n",
    "# connect_commands = [cmd for cmd in curl_commands_list if 'CONNECT' in cmd]\n",
    "# print(len(connect_commands))"
   ]
  },
  {
   "cell_type": "code",
   "execution_count": 3,
   "metadata": {},
   "outputs": [
    {
     "name": "stdout",
     "output_type": "stream",
     "text": [
      "(41588, 2)\n"
     ]
    }
   ],
   "source": [
    "import pandas as pd\n",
    "import numpy as np\n",
    "\n",
    "# get_commands = [(\"\", cmd) for cmd in get_commands]\n",
    "# get_commands_df = pd.DataFrame(get_commands, columns=['instruction','api_call'])\n",
    "\n",
    "# random_indices = np.random.choice(get_commands_df.index, 25000, replace=False)\n",
    "\n",
    "# get_commands_df = get_commands_df.loc[random_indices]\n",
    "\n",
    "# get_commands_df.to_csv('data/get_commands.csv', index=False)"
   ]
  },
  {
   "cell_type": "code",
   "execution_count": 50,
   "metadata": {},
   "outputs": [
    {
     "name": "stdout",
     "output_type": "stream",
     "text": [
      "(41588, 2)\n"
     ]
    }
   ],
   "source": [
    "# import pandas as pd\n",
    "# import numpy as np\n",
    "\n",
    "# new_post_commands = [(\"\", cmd) for cmd in post_commands]\n",
    "# post_commands_df = pd.read_csv('data/post_commands.csv')\n",
    "# post_commands_df = pd.concat([post_commands_df, pd.DataFrame(new_post_commands, columns=['instruction','api_call'])])\n",
    "# print(post_commands_df.shape)\n",
    "\n",
    "# post_commands_df.to_csv('data/post_commands.csv', index=False)"
   ]
  },
  {
   "cell_type": "code",
   "execution_count": 5,
   "metadata": {},
   "outputs": [
    {
     "name": "stdout",
     "output_type": "stream",
     "text": [
      "(25000, 2)\n"
     ]
    }
   ],
   "source": [
    "# import pandas as pd\n",
    "# import numpy as np\n",
    "\n",
    "# new_put_commands = [(\"\", cmd) for cmd in put_commands]\n",
    "# put_commands_df = pd.read_csv('data/put_commands.csv')\n",
    "# put_commands_df = pd.concat([put_commands_df, pd.DataFrame(new_put_commands, columns=['instruction','api_call'])])\n",
    "# print(put_commands_df.shape)\n",
    "\n",
    "# put_commands_df.to_csv('data/put_commands.csv', index=False)"
   ]
  },
  {
   "cell_type": "code",
   "execution_count": 32,
   "metadata": {},
   "outputs": [
    {
     "name": "stdout",
     "output_type": "stream",
     "text": [
      "(25000, 2)\n"
     ]
    }
   ],
   "source": [
    "# import pandas as pd\n",
    "# import numpy as np\n",
    "\n",
    "# new_patch_commands = [(\"\", cmd) for cmd in patch_commands]\n",
    "# patch_commands_df = pd.read_csv('data/patch_commands.csv')\n",
    "# patch_commands_df = pd.concat([patch_commands_df, pd.DataFrame(new_patch_commands, columns=['instruction','api_call'])])\n",
    "# print(patch_commands_df.shape)\n",
    "\n",
    "# patch_commands_df.to_csv('data/patch_commands.csv', index=False)"
   ]
  },
  {
   "cell_type": "code",
   "execution_count": 7,
   "metadata": {},
   "outputs": [
    {
     "name": "stdout",
     "output_type": "stream",
     "text": [
      "(25000, 2)\n"
     ]
    }
   ],
   "source": [
    "# import pandas as pd\n",
    "# import numpy as np\n",
    "\n",
    "# new_delete_commands = [(\"\", cmd) for cmd in delete_commands]\n",
    "# delete_commands_df = pd.read_csv('data/delete_commands.csv')\n",
    "# delete_commands_df = pd.concat([delete_commands_df, pd.DataFrame(new_delete_commands, columns=['instruction','api_call'])])\n",
    "# print(delete_commands_df.shape)\n",
    "\n",
    "# delete_commands_df.to_csv('data/delete_commands.csv', index=False)"
   ]
  },
  {
   "cell_type": "code",
   "execution_count": 4,
   "metadata": {},
   "outputs": [],
   "source": [
    "import pandas as pd\n",
    "\n",
    "get_commands_df = pd.read_csv('data/get_commands.csv')\n",
    "post_commands_df = pd.read_csv('data/post_commands.csv')\n",
    "put_commands_df = pd.read_csv('data/put_commands.csv')\n",
    "patch_commands_df = pd.read_csv('data/patch_commands.csv')\n",
    "delete_commands_df = pd.read_csv('data/delete_commands.csv')\n",
    "\n",
    "combined_raw = pd.concat([get_commands_df, post_commands_df, put_commands_df, patch_commands_df, delete_commands_df])\n",
    "\n",
    "combined_raw.to_csv('data/combined_raw_rest_base.csv', index=False)"
   ]
  }
 ],
 "metadata": {
  "kernelspec": {
   "display_name": "ToolCharm",
   "language": "python",
   "name": "python3"
  },
  "language_info": {
   "codemirror_mode": {
    "name": "ipython",
    "version": 3
   },
   "file_extension": ".py",
   "mimetype": "text/x-python",
   "name": "python",
   "nbconvert_exporter": "python",
   "pygments_lexer": "ipython3",
   "version": "3.11.3"
  }
 },
 "nbformat": 4,
 "nbformat_minor": 2
}
